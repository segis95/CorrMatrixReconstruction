{
 "cells": [
  {
   "cell_type": "markdown",
   "metadata": {},
   "source": [
    "# Восстановление матрицы корреспонденций\n",
    "\n",
    "                            Автор: Сергей Павлов"
   ]
  },
  {
   "cell_type": "markdown",
   "metadata": {},
   "source": [
    "В настоящем документе изложен отчёт о проделанной работе по вышеуказанной теме. \n",
    "### План работы    \n",
    "- Применение классического метода восстановления(из лекции)\n",
    "- Обсуждение метрики в классическом подходе\n",
    "- Описание и применение статистического подхода \n",
    "- Обсуждение результатов"
   ]
  },
  {
   "cell_type": "markdown",
   "metadata": {},
   "source": [
    "Импортируем необходимые библиотеки и загрузим данные:"
   ]
  },
  {
   "cell_type": "code",
   "execution_count": 296,
   "metadata": {},
   "outputs": [],
   "source": [
    "import pandas as pd\n",
    "import numpy as np\n",
    "import matplotlib.pyplot as plt\n",
    "import tensorflow as tf\n",
    "import tensorflow.distributions\n",
    "from tensorflow.distributions import Dirichlet, Multinomial\n",
    "from scipy.stats import entropy\n",
    "df = pd.read_csv('trips1.csv')"
   ]
  },
  {
   "cell_type": "markdown",
   "metadata": {},
   "source": [
    "## Часть 1: классический метод"
   ]
  },
  {
   "cell_type": "markdown",
   "metadata": {},
   "source": [
    "Таблица trips.csv содержит 210 строк, тогда как возможных различных пар локаций имеется $22*(22 - 1) / 2 = 242$. Это означает, что для некоторых порядоченных пар локаций не нашлось людей, живущих в первой и работающих во второй. Для применения стандартного подхода положим время по отсутствующим (в обоих направлениях) корреспонденциям равным бесконечности, а соответствующие корреспонденции - нулю.\n",
    "\n",
    "Здесь как и в лекциях:\n",
    "\n",
    "$$\\sum_j d_{ij} = L_i$$\n",
    "$$\\sum_i d_{ij} = W_j$$"
   ]
  },
  {
   "cell_type": "code",
   "execution_count": 379,
   "metadata": {},
   "outputs": [],
   "source": [
    "# инициализируем таблицы\n",
    "d = np.zeros((22,22))\n",
    "T = np.inf * np.ones((22,22))\n",
    "\n",
    "# заполняем таблицы\n",
    "for v in df.values:\n",
    "    d[int(v[0]) - 1, int(v[1]) - 1] = v[2]\n",
    "    T[int(v[0]) - 1, int(v[1]) - 1] = v[3]\n",
    "    T[int(v[1]) - 1, int(v[0]) - 1] = v[3]\n",
    "\n",
    "# вычисляем L и W   \n",
    "L = d.sum(axis = 1).reshape((22,1))\n",
    "W = d.sum(axis = 0).T.reshape((22,1))"
   ]
  },
  {
   "cell_type": "markdown",
   "metadata": {},
   "source": [
    "Зададим функцию iterate, выполняющую одну итерацию процесса(n = 22):\n",
    "\n",
    "$$A^{n+1}_i := \\left(\\sum_{j=1}^n{\\frac{B_j^nW_j}{\\exp{\\alpha T_{ij}}}}\\right)^{-1},$$\n",
    "\n",
    "$$B^{n+1}_j := \\left(\\sum_{i=1}^n{\\frac{A_i^{n+1}L_i}{\\exp{\\alpha T_{ij}}}}\\right)^{-1}$$\n",
    "\n",
    "Код написан в векторной форме с целью оптимизации времени выполнения:"
   ]
  },
  {
   "cell_type": "code",
   "execution_count": 318,
   "metadata": {},
   "outputs": [],
   "source": [
    "def iterate(A, B, W, L, f, n):\n",
    "    A_p = (1.0 / ((B.T * W.T * f).sum(axis = 1))).reshape((n,1))\n",
    "    B_p = (1.0 / ((A_p * L * f).sum(axis = 0))).T.reshape((n,1))\n",
    "    return A_p, B_p"
   ]
  },
  {
   "cell_type": "markdown",
   "metadata": {},
   "source": [
    "Зададим функцию, которая выполняет заданное число итераций оптимизации для заданного значения $\\alpha$. Функция возвращает восстановленную матрицу $\\widetilde{(d_{ij})_{i,j = 1}^{n}}$, а также графики $\\frac{|dA_{n+1}|_2}{|A_n|_2}$ и $\\frac{|dB_{n+1}|_2}{|B_n|_2}$ в зависимости от номера итерации. Графики позволят нам сравнить скорость сходимости для различных значений $\\alpha$.\n",
    "\n",
    "Мы инициализировали A и B единицами, а также случайными величинами(между 0 и 1). На величину невязки и оптимальное значение параметра $\\alpha$ метод инициализации не повлиял. "
   ]
  },
  {
   "cell_type": "code",
   "execution_count": 319,
   "metadata": {
    "scrolled": true
   },
   "outputs": [],
   "source": [
    "def calculate_for_alpha(alpha, iterations, p = False):\n",
    "\n",
    "    A = np.random.random((22,1))\n",
    "    B = np.random.random((22,1))\n",
    "    #A = np.ones((22,1))\n",
    "    #B = np.ones((22,1))\n",
    "    \n",
    "    dA = []\n",
    "    dB = []\n",
    "    f_a = np.exp(-alpha * T)\n",
    "\n",
    "    for i in range(iterations):\n",
    "        \n",
    "        A_n, B_n = iterate(A,B,W,L,f_a,22)\n",
    "        \n",
    "        dA_ =  np.linalg.norm(A - A_n, 2) / np.linalg.norm(A, 2)\n",
    "        dB_ = np.linalg.norm(B - B_n, 2) / np.linalg.norm(B, 2)\n",
    "        \n",
    "        dA.append(dA_)\n",
    "        dB.append(dB_)\n",
    "        \n",
    "        A,B = A_n, B_n\n",
    "    \n",
    "    if p:\n",
    "        plt.subplot(2, 1, 1)\n",
    "        plt.scatter(range(20,iterations), dA[20:], s = 1)\n",
    "        plt.ylabel('|dA|/|A|')\n",
    "\n",
    "        plt.subplot(2, 1, 2)\n",
    "        plt.scatter(range(20,iterations), dB[20:], s = 1)\n",
    "        plt.ylabel('|dB|/|B|')\n",
    "        plt.xlabel('iterations')\n",
    "\n",
    "        plt.show()\n",
    "\n",
    "    return np.dot((A * L) , (B * W).T) * f_a"
   ]
  },
  {
   "cell_type": "markdown",
   "metadata": {},
   "source": [
    "Экстремальные значения $\\alpha$ влекут за собой зануление компонент A и B и впоследствии деление на 0. Перебирая значения $\\alpha$ в коде ниже, убеждаемся, что 2500 итераций достаточно для обеспечения сходимости для разумных значений $\\alpha$ ($\\alpha < 9$). Для малых значений $\\alpha$ сходимость быстрее. "
   ]
  },
  {
   "cell_type": "code",
   "execution_count": 381,
   "metadata": {},
   "outputs": [
    {
     "data": {
      "image/png": "[encoded data removed]",
      "text/plain": [
       "<matplotlib.figure.Figure at 0x21e1f3b6550>"
      ]
     },
     "metadata": {},
     "output_type": "display_data"
    }
   ],
   "source": [
    "r = calculate_for_alpha(5, 10000, p = True)"
   ]
  },
  {
   "cell_type": "markdown",
   "metadata": {},
   "source": [
    "Определившись с числом итераций(2500), посмотрим на зависимость невязки, последовательно сужая окно поиска. "
   ]
  },
  {
   "cell_type": "code",
   "execution_count": 321,
   "metadata": {},
   "outputs": [
    {
     "name": "stderr",
     "output_type": "stream",
     "text": [
      "C:\\Users\\Sergey\\AppData\\Local\\conda\\conda\\envs\\condathree\\lib\\site-packages\\ipykernel\\__main__.py:36: RuntimeWarning: invalid value encountered in multiply\n"
     ]
    },
    {
     "data": {
      "image/png": "[encoded data removed]",
      "text/plain": [
       "<matplotlib.figure.Figure at 0x21e1f6cc278>"
      ]
     },
     "metadata": {},
     "output_type": "display_data"
    }
   ],
   "source": [
    "### Окно значений alpha: 1-9####\n",
    "res = []\n",
    "alphas = range(1,9)\n",
    "for alpha in alphas:\n",
    "    r = calculate_for_alpha(alpha, 2500)\n",
    "    res.append(np.sum((r - d)*(r - d)))\n",
    "\n",
    "plt.scatter(alphas, res)\n",
    "plt.ylabel('Невязка')\n",
    "plt.xlabel('alpha')\n",
    "plt.show()"
   ]
  },
  {
   "cell_type": "code",
   "execution_count": 322,
   "metadata": {},
   "outputs": [
    {
     "data": {
      "image/png": "[encoded data removed]",
      "text/plain": [
       "<matplotlib.figure.Figure at 0x21e208dd128>"
      ]
     },
     "metadata": {},
     "output_type": "display_data"
    }
   ],
   "source": [
    "### Окно значений alpha: 0.1-1.0####\n",
    "res = []\n",
    "alphas = np.arange(0.1,1.0,0.1)\n",
    "for alpha in alphas:\n",
    "    r = calculate_for_alpha(alpha, 2500)\n",
    "    res.append(np.sum((r - d)*(r - d)))\n",
    "\n",
    "plt.ylabel('Невязка')\n",
    "plt.xlabel('alpha')\n",
    "plt.scatter(alphas, res)\n",
    "plt.show()"
   ]
  },
  {
   "cell_type": "code",
   "execution_count": 323,
   "metadata": {},
   "outputs": [
    {
     "data": {
      "image/png": "[encoded data removed]",
      "text/plain": [
       "<matplotlib.figure.Figure at 0x21e1f5310b8>"
      ]
     },
     "metadata": {},
     "output_type": "display_data"
    }
   ],
   "source": [
    "### Окно значений alpha: 0.01-0.1####\n",
    "res = []\n",
    "alphas = np.arange(0.01,0.1,0.01)\n",
    "for alpha in alphas:\n",
    "    r = calculate_for_alpha(alpha, 2500)\n",
    "    res.append(np.sum((r - d)*(r - d)))\n",
    "\n",
    "plt.scatter(alphas, res)\n",
    "plt.ylabel('Невязка')\n",
    "plt.xlabel('alpha')\n",
    "plt.show()"
   ]
  },
  {
   "cell_type": "code",
   "execution_count": 324,
   "metadata": {},
   "outputs": [
    {
     "data": {
      "image/png": "[encoded data removed]",
      "text/plain": [
       "<matplotlib.figure.Figure at 0x21e1f86e208>"
      ]
     },
     "metadata": {},
     "output_type": "display_data"
    }
   ],
   "source": [
    "res = []\n",
    "alphas = np.arange(0.055,0.07,0.001)\n",
    "for alpha in alphas:\n",
    "    r = calculate_for_alpha(alpha, 2500)\n",
    "    res.append(np.sum((r - d)*(r - d)))\n",
    "\n",
    "plt.ylabel('Невязка')\n",
    "plt.xlabel('alpha')\n",
    "plt.scatter(alphas, res)\n",
    "plt.show()"
   ]
  },
  {
   "cell_type": "markdown",
   "metadata": {},
   "source": [
    "### Выводы:\n",
    "\n",
    "- Оптимальное значение невязки($\\approx 6150$) достигается при значении $\\alpha \\approx 0.066$ \n",
    "- Для обеспечения сходимости метода достаточно произвести 2500 операций, а для малых значений $\\alpha$($\\alpha < 1$) - на порядок меньше\n",
    "- В близи экстремума функция невязки является выпуклой, однако на всём множестве значений это неверно"
   ]
  },
  {
   "cell_type": "markdown",
   "metadata": {},
   "source": [
    "## Часть 2: обсуждение метрики"
   ]
  },
  {
   "cell_type": "markdown",
   "metadata": {},
   "source": [
    "В данном разделе предлагается несколько иначе посмотреть на постановку задачи восстановления матрицы корреспонденций.\n",
    "\n",
    "Рассмотрим классическую гравитационную модель:\n",
    "\n",
    "$$d_{ij} = \\frac{A_iB_jL_iW_j}{f_{\\alpha}(T_{ij})}$$\n",
    "\n",
    "Разделим обе части уравнения на $L_i$:\n",
    "\n",
    "$$\\frac{d_{ij}}{L_i} = \\frac{A_iB_jW_j}{f_{\\alpha}(T_{ij})}$$\n",
    "\n",
    "В левой части этого уравнения стоит доля жителей локации i, которые работают в j. Понятно, что \n",
    "\n",
    "$$\\left(p_i(j):= \\frac{d_{ij}}{L_i}\\right)_{j=1}^n$$\n",
    "\n",
    "формирует некоторое распределение $p_i$ на множестве локаций. В этой связи интересны следующие вопросы:\n",
    "\n",
    "- Каким образом можно сравнить распределения по городам для разных i c эталоном?\n",
    "\n",
    "- Будет ли оптимальное значение невязки в таких терминах отличаться от оптимального значений в классической постановке?\n",
    "\n",
    "Мы предлагаем использовать в качестве невязки симметричную KL-метрику:\n",
    "\n",
    "$\\sum_{i = 1}^n(KL(\\tilde{p_i}|| p_i) + KL(p_i|| \\tilde{p_i}))$\n",
    "\n",
    "Проблемой является наличие нулевых значений в $d_{ij}$. Эту проблему мы решим следующим образом: бесконечные значения $T_{ij}$ мы заменим большим временем в пути(240 минут), а нулевые значения $d_{ij}$ заменим значеним 1. Второе, конечно, статистически более существенно, посколько опрошено всего порядка 1500 человек, и реальной вероятности для этих нулевых корреспонденций мы не знаем, но за неимением лучшего решения поступим так. Отметим также, что оптимальное значение $\\alpha$ для классического метода на исправленных матриц составляет $\\approx 0.057$ при значении классической невязки $\\approx$ 8250."
   ]
  },
  {
   "cell_type": "code",
   "execution_count": 325,
   "metadata": {},
   "outputs": [],
   "source": [
    "# инициализируем таблицы по-новому\n",
    "d = np.ones((22,22))\n",
    "T = 240 * np.ones((22,22))\n",
    "\n",
    "# заполняем таблицы\n",
    "for v in df.values:\n",
    "    d[int(v[0]) - 1, int(v[1]) - 1] = v[2]\n",
    "    T[int(v[0]) - 1, int(v[1]) - 1] = v[3]\n",
    "    T[int(v[1]) - 1, int(v[0]) - 1] = v[3]\n",
    "\n",
    "# вычисляем L и W   \n",
    "L = d.sum(axis = 1).reshape((22,1))\n",
    "W = d.sum(axis = 0).T.reshape((22,1))"
   ]
  },
  {
   "cell_type": "code",
   "execution_count": 344,
   "metadata": {},
   "outputs": [
    {
     "data": {
      "image/png": "[encoded data removed]",
      "text/plain": [
       "<matplotlib.figure.Figure at 0x21e20920390>"
      ]
     },
     "metadata": {},
     "output_type": "display_data"
    }
   ],
   "source": [
    "### Окно значений alpha: 0.03 - 2.5####\n",
    "res = []\n",
    "\n",
    "alphas = np.arange(0.03,2.5,0.05)\n",
    "for alpha in alphas:\n",
    "    r = calculate_for_alpha(alpha, 2500)\n",
    "    res.append(np.sum(entropy(d / L,r / L) + entropy(r / L, d / L)))\n",
    "\n",
    "plt.scatter(alphas, res)\n",
    "plt.ylabel('Невязка')\n",
    "plt.xlabel('alpha')\n",
    "plt.show()"
   ]
  },
  {
   "cell_type": "code",
   "execution_count": 345,
   "metadata": {},
   "outputs": [
    {
     "data": {
      "image/png": "[encoded data removed]",
      "text/plain": [
       "<matplotlib.figure.Figure at 0x21e1f68fc88>"
      ]
     },
     "metadata": {},
     "output_type": "display_data"
    }
   ],
   "source": [
    "### Окно значений alpha: 0.001 - 0.03####\n",
    "res = []\n",
    "alphas = np.arange(0.001,0.03,0.001)\n",
    "\n",
    "for alpha in alphas:\n",
    "    r = calculate_for_alpha(alpha, 2500)\n",
    "    res.append(np.sum(entropy(d / L,r / L) + entropy(r / L, d / L)))\n",
    "\n",
    "plt.scatter(alphas, res)\n",
    "plt.ylabel('Невязка')\n",
    "plt.xlabel('alpha')\n",
    "plt.show()"
   ]
  },
  {
   "cell_type": "markdown",
   "metadata": {},
   "source": [
    "### Анализ\n",
    "\n",
    "- При $\\alpha > 2.5$ возникают, по-видимому, проблемы с сингулярностью в логарифмах, поэтому такие значения не берём в рассмотрение;\n",
    "- Целевая функция в большей степени похожа на выпуклую функцию;\n",
    "- Значени максимума кардинально отличается от значения в классической постановке задачи и составляет приблизительно $\\alpha \\approx 0.0125$;\n",
    "- Интересно было бы посмотреть на поведение и, в частности, выпуклость правой(приближение справа) и левой(приближение слева) KL-расходимостей;"
   ]
  },
  {
   "cell_type": "markdown",
   "metadata": {},
   "source": [
    "### Правая KL - расходимость"
   ]
  },
  {
   "cell_type": "code",
   "execution_count": 346,
   "metadata": {},
   "outputs": [
    {
     "data": {
      "image/png": "[encoded data removed]",
      "text/plain": [
       "<matplotlib.figure.Figure at 0x21e20b0e630>"
      ]
     },
     "metadata": {},
     "output_type": "display_data"
    }
   ],
   "source": [
    "### Окно значений alpha: 0.03 - 2.5####\n",
    "res = []\n",
    "\n",
    "alphas = np.arange(0.03,2.5,0.05)\n",
    "for alpha in alphas:\n",
    "    r = calculate_for_alpha(alpha, 2500)\n",
    "    res.append(np.sum(entropy(d / L,r / L)))\n",
    "\n",
    "plt.scatter(alphas, res)\n",
    "plt.ylabel('Невязка')\n",
    "plt.xlabel('alpha')\n",
    "plt.show()"
   ]
  },
  {
   "cell_type": "code",
   "execution_count": 353,
   "metadata": {},
   "outputs": [
    {
     "data": {
      "image/png": "[encoded data removed]",
      "text/plain": [
       "<matplotlib.figure.Figure at 0x21e1f836860>"
      ]
     },
     "metadata": {},
     "output_type": "display_data"
    }
   ],
   "source": [
    "### Окно значений alpha: 0.001 - 0.1####\n",
    "res = []\n",
    "alphas = np.arange(0.001,0.1,0.001)\n",
    "\n",
    "for alpha in alphas:\n",
    "    r = calculate_for_alpha(alpha, 2500)\n",
    "    res.append(np.sum(entropy(d / L,r / L)))\n",
    "\n",
    "plt.scatter(alphas, res)\n",
    "plt.ylabel('Невязка')\n",
    "plt.xlabel('alpha')\n",
    "plt.show()"
   ]
  },
  {
   "cell_type": "markdown",
   "metadata": {},
   "source": [
    "### Левая KL-расходимость"
   ]
  },
  {
   "cell_type": "code",
   "execution_count": 350,
   "metadata": {},
   "outputs": [
    {
     "data": {
      "image/png": "[encoded data removed]",
      "text/plain": [
       "<matplotlib.figure.Figure at 0x21e1f84ecf8>"
      ]
     },
     "metadata": {},
     "output_type": "display_data"
    }
   ],
   "source": [
    "### Окно значений alpha: 0.03 - 2.5####\n",
    "res = []\n",
    "\n",
    "alphas = np.arange(0.03,2.5,0.05)\n",
    "for alpha in alphas:\n",
    "    r = calculate_for_alpha(alpha, 2500)\n",
    "    res.append(np.sum(entropy(r / L,d / L)))\n",
    "\n",
    "plt.scatter(alphas, res)\n",
    "plt.ylabel('Невязка')\n",
    "plt.xlabel('alpha')\n",
    "plt.show()"
   ]
  },
  {
   "cell_type": "code",
   "execution_count": 352,
   "metadata": {},
   "outputs": [
    {
     "data": {
      "image/png": "[encoded data removed]",
      "text/plain": [
       "<matplotlib.figure.Figure at 0x21e20acd5f8>"
      ]
     },
     "metadata": {},
     "output_type": "display_data"
    }
   ],
   "source": [
    "### Окно значений alpha: 0.001 - 0.2####\n",
    "res = []\n",
    "alphas = np.arange(0.001,0.2,0.001)\n",
    "\n",
    "for alpha in alphas:\n",
    "    r = calculate_for_alpha(alpha, 2500)\n",
    "    res.append(np.sum(entropy(r / L,d / L)))\n",
    "\n",
    "plt.scatter(alphas, res)\n",
    "plt.ylabel('Невязка')\n",
    "plt.xlabel('alpha')\n",
    "plt.show()"
   ]
  },
  {
   "cell_type": "markdown",
   "metadata": {},
   "source": [
    "## Выводы\n",
    "\n",
    "- Правая, левая и симметричная KL - расходимости имеют различный характер, и оптимальное значение отличается от своего аналога в классической постановке задачи\n",
    "\n",
    "- Постановка задачи в терминах вероятностей открывает путь в статистическое моделирование, которое представлено в следующей части работы"
   ]
  },
  {
   "cell_type": "markdown",
   "metadata": {},
   "source": [
    "## Часть 3: метод статистического моделирования"
   ]
  },
  {
   "cell_type": "markdown",
   "metadata": {},
   "source": [
    "Нашей целью в данной части работы было создание статистической модели, которая:\n",
    "\n",
    "- Наследовала бы некоторые идеи классического подхода;\n",
    "- Использовала бы сравнимое число обучаемых параметров;\n",
    "- Допускала бы градиентный метод подбора параметров;\n",
    "\n",
    "Обращаем внимание читателя на то, что приведённая ниже модель является результатом анализа численных экспериментов в чистом AD-HOC стиле и не претендует на простоту восприятия при первом прочтении."
   ]
  },
  {
   "cell_type": "markdown",
   "metadata": {},
   "source": [
    "## Описание модели\n",
    "\n",
    "Напомним, что распределением Дирихле с параметрами $q = (q_1, \\dots, q_n)$(-мультииндекс) является многомерное распределение с плотностью следующего вида:\n",
    "\n",
    "$$Dir(x = (x_1,\\dots, x_n)|q) = \\frac{x_1^{q_1 - 1}x_2^{q_2 - 1}\\dots x_n^{q_n - 1}}{B(q)},$$\n",
    "\n",
    "$$\\sum_{i = 1}^nx_i = 1,$$\n",
    "\n",
    "$B(q)$ есть значение (многомерной)бета-функция в точке q.\n",
    "\n",
    "Математическое ожидание распределения Дирихле является вектором $\\bar{x}$ с компонентами \n",
    "$$\\bar{x_i} = \\frac{q_i}{\\sum_{j=1}^kq_j}$$\n",
    "\n",
    "Напомним, что значением функции softmax на векторе $x = (x_1,\\dots,x_k)$ является вектор $z = (z_1, \\dots, z_k)$ такой, что: \n",
    "$$z_i = \\frac{e^{x_i}}{\\sum_{j=1}^ke^{x_j}} =: softmax(x)_i$$ \n",
    "\n",
    "Зададим следующие параметры модели:\n",
    "\n",
    "- вектор A:\n",
    "$$A:=(A_1, \\dots, A_n)^T$$\n",
    "- вектор B:\n",
    "$$B:=(B_1, \\dots, B_n)^T$$\n",
    "- число $\\alpha$\n",
    "\n",
    "Таким образом, модель будет иметь $2n+1$ обучаемый параметр.\n",
    "\n",
    "Определеми также матрицу С:\n",
    "$$C = softmax(AB^T),$$\n",
    "\n",
    "где функция softmax применяется к матрице построчно.\n",
    "\n",
    "Пусть теперь:\n",
    "$$Q := 1 + softmax\\left(\\frac{C}{e^{\\alpha \\frac{T}{W}}}\\right),$$\n",
    "\n",
    "где softmax применяется к матрице построчно, 1 прибавляется к важдому элементу матрицы, столбцы матрицы времён Т делятся на столбец W(из классической модели), матричная экспонента понимается в виде поэлементной,а матрицы в числителе и знаменателе делятся также поэлементно.\n",
    "\n",
    "Положим теперь, что распределение $p_i$:\n",
    "$$\\left(p_i(j):= \\frac{d_{ij}}{L_i}\\right)_{j=1}^n$$\n",
    "следует закону распределения Дирихле с параметрами из i-ой строки матрицы Q: $$p_i = p_i(A,B,\\alpha).$$\n",
    "\n",
    "Целью оптимизации будет подбор параметров $(A,B,\\alpha)$, дающих максимальное правдоподобие, то есть минимум следующей функции:\n",
    "\n",
    "$$L = -\\sum_{i=1}^n\\log p_i(A,B,\\alpha) = -\\sum_{i=1}^n\\log p_i(Q_{i,\\cdot})$$\n",
    "\n",
    "Для решения данной задачи градиентным методом применим возможности библиотеки Tensorflow.\n",
    "\n",
    "Для построения предсказания для $\\frac{d_{i,\\cdot}}{L_i}$ возьмём математическое ожидание(см.формулу выше) распределения Дирихле с параметрами из i-ой строки оптимального значения матрицы Q. "
   ]
  },
  {
   "cell_type": "markdown",
   "metadata": {},
   "source": [
    "### Задаём параметры модели в Tensorflow"
   ]
  },
  {
   "cell_type": "code",
   "execution_count": 354,
   "metadata": {},
   "outputs": [],
   "source": [
    "# Определение параметров модели в терминах вычислительного графа\n",
    "alpha = tf.Variable(initial_value = 2.0,  name = 'alpha')#tf.constant( 1.0, name = 'beta')#\n",
    "beta = tf.constant( 1.0, name = 'beta')\n",
    "\n",
    "A = tf.Variable(initial_value = np.random.random((22,1)).astype('float32'), name = 'A1')\n",
    "B = tf.Variable(initial_value = np.random.random((1,22)).astype('float32'), name = 'B1')\n",
    "\n",
    "#alpha = tf.constant( 3.5, name = 'alpha')\n",
    "#beta = tf.Variable(initial_value = 1.5,  name = 'beta')\n",
    "#np.random.random((22,1)).astype('float32')\n",
    "#np.random.random((1,22)).astype('float32')\n",
    "#np.ones((22,1), dtype = 'float32')\n",
    "#np.ones((1,22), dtype = 'float32')\n",
    "#A2 = tf.Variable(initial_value = np.random.random((22,1)).astype('float32'), name = 'A2')\n",
    "#B2 = tf.Variable(initial_value = np.random.random((1,22)).astype('float32'), name = 'B2')\n",
    "#C = tf.Variable(initial_value = np.random.random((22,22)).astype('float32'))\n",
    "\n",
    "#Определение матрицы С (здесь - Cs)\n",
    "C = tf.matmul(A,B)\n",
    "Cs = tf.nn.softmax(C, axis = 1)\n",
    "\n",
    "# Данные из классической модели\n",
    "Times = tf.placeholder(shape = (22,22), name = 'Times', dtype = 'float32')\n",
    "Workers = tf.placeholder(shape = (1,22), name = 'Workers', dtype = 'float32')\n",
    "Data_D = tf.placeholder(shape = (22,22), name = 'Data_D', dtype = 'float32')\n",
    "\n",
    "\n",
    "#Weights = beta + tf.sigmoid(-Workers / Times * alpha)#tf.nn.softmax()\n",
    "W_0 = C / tf.exp(alpha * Times / Workers)\n",
    "TC = tf.placeholder(shape = (1,22), name = 'TC', dtype = 'float32')\n",
    "\n",
    "#Определяем матрицу Q(здесь - Weights)\n",
    "Weights = beta + tf.nn.softmax(W_0, axis = 1)#tf.nn.softmax( W_0, axis = 1)\n",
    "\n",
    "#dists = Multinomial(total_count = TC, probs = Weights)#\n",
    "\n",
    "#Определяем распределение Дирихле с параметрами Weights построчно\n",
    "dists = Dirichlet(Weights)\n",
    "\n",
    "v1 = dists.prob(Data_D)\n",
    "v2 = tf.log(v1)\n",
    "\n",
    "# Определяем целевую функцию\n",
    "Loss = -tf.reduce_sum(v2)\n",
    "\n",
    "# Определяем метод оптимизации - Adam, шаг фиксируем равным 0.001\n",
    "optimizer = tf.train.AdamOptimizer(learning_rate = 0.001).minimize(Loss)"
   ]
  },
  {
   "cell_type": "markdown",
   "metadata": {},
   "source": [
    "### Запускаем процесс оптимизации"
   ]
  },
  {
   "cell_type": "code",
   "execution_count": 359,
   "metadata": {},
   "outputs": [],
   "source": [
    "af = 0\n",
    "\n",
    "vals_c = []\n",
    "with tf.Session() as ss:\n",
    "    ss.run(tf.global_variables_initializer())\n",
    "    \n",
    "    #число итераций - 10000\n",
    "    for i in range(10000):\n",
    "\n",
    "        _ , c, af = ss.run([optimizer, Loss, Weights], feed_dict={Times: T,\n",
    "                                                     Workers: W.T,\n",
    "                                                      Data_D: d / L,\n",
    "                                                      TC: L.T})\n",
    "        vals_c.append(c)\n"
   ]
  },
  {
   "cell_type": "code",
   "execution_count": 361,
   "metadata": {},
   "outputs": [
    {
     "data": {
      "image/png": "[encoded data removed]",
      "text/plain": [
       "<matplotlib.figure.Figure at 0x21e205cb278>"
      ]
     },
     "metadata": {},
     "output_type": "display_data"
    }
   ],
   "source": [
    "plt.scatter(range(10000), vals_c)\n",
    "plt.ylabel('- likelihood')\n",
    "plt.xlabel('iteration')\n",
    "plt.show()"
   ]
  },
  {
   "cell_type": "markdown",
   "metadata": {},
   "source": [
    "### Анализ результатов"
   ]
  },
  {
   "cell_type": "markdown",
   "metadata": {},
   "source": [
    "Вычисляем построчно математические ожидания распределений Дирихле и вычисляем предсказания:"
   ]
  },
  {
   "cell_type": "code",
   "execution_count": 363,
   "metadata": {},
   "outputs": [],
   "source": [
    "res = af / af.sum(axis = 1)"
   ]
  },
  {
   "cell_type": "markdown",
   "metadata": {},
   "source": [
    "Вычислим невязку в терминах симметричной KL-метрики:"
   ]
  },
  {
   "cell_type": "code",
   "execution_count": 368,
   "metadata": {},
   "outputs": [
    {
     "data": {
      "text/plain": [
       "31.640512474393876"
      ]
     },
     "execution_count": 368,
     "metadata": {},
     "output_type": "execute_result"
    }
   ],
   "source": [
    "np.sum(entropy(d / L, res) + entropy(res, d / L ))"
   ]
  },
  {
   "cell_type": "markdown",
   "metadata": {},
   "source": [
    "Невязка в терминах левой KL-метрики:"
   ]
  },
  {
   "cell_type": "code",
   "execution_count": 370,
   "metadata": {},
   "outputs": [
    {
     "data": {
      "text/plain": [
       "14.08478180040572"
      ]
     },
     "execution_count": 370,
     "metadata": {},
     "output_type": "execute_result"
    }
   ],
   "source": [
    "np.sum(entropy(res, d / L ))"
   ]
  },
  {
   "cell_type": "code",
   "execution_count": null,
   "metadata": {},
   "outputs": [],
   "source": [
    "Невязка в терминах правой KL-метрики:"
   ]
  },
  {
   "cell_type": "code",
   "execution_count": 371,
   "metadata": {},
   "outputs": [
    {
     "data": {
      "text/plain": [
       "17.55573067398815"
      ]
     },
     "execution_count": 371,
     "metadata": {},
     "output_type": "execute_result"
    }
   ],
   "source": [
    "np.sum(entropy(d / L, res))"
   ]
  },
  {
   "cell_type": "markdown",
   "metadata": {},
   "source": [
    "Классическая невязка:"
   ]
  },
  {
   "cell_type": "code",
   "execution_count": 372,
   "metadata": {},
   "outputs": [
    {
     "data": {
      "text/plain": [
       "59132.73909362238"
      ]
     },
     "execution_count": 372,
     "metadata": {},
     "output_type": "execute_result"
    }
   ],
   "source": [
    "np.sum((res * L - d)*(res * L - d))"
   ]
  },
  {
   "cell_type": "markdown",
   "metadata": {},
   "source": [
    "Приведём внешний вид матрицы Q параметров распределений Дирихле. Не будем забывать про фиксированную 1, присутствующую в каждом элементе модели. Видно, что решение невырожденно."
   ]
  },
  {
   "cell_type": "code",
   "execution_count": 377,
   "metadata": {},
   "outputs": [
    {
     "data": {
      "text/plain": [
       "array([[1.993224 , 1.0066278, 1.       , 1.       , 1.       , 1.0001483,\n",
       "        1.       , 1.       , 1.       , 1.       , 1.       , 1.       ,\n",
       "        1.       , 1.       , 1.       , 1.       , 1.       , 1.       ,\n",
       "        1.       , 1.       , 1.       , 1.       ],\n",
       "       [1.0994134, 1.8977089, 1.0000004, 1.0000002, 1.0000007, 1.0028528,\n",
       "        1.0000011, 1.0000017, 1.0000007, 1.0000012, 1.0000006, 1.       ,\n",
       "        1.0000001, 1.0000011, 1.0000001, 1.0000118, 1.0000005, 1.0000026,\n",
       "        1.0000005, 1.0000005, 1.0000005, 1.0000006],\n",
       "       [1.9733824, 1.0247084, 1.0000001, 1.       , 1.0000002, 1.001742 ,\n",
       "        1.0000002, 1.0000007, 1.0000002, 1.0000001, 1.0001581, 1.       ,\n",
       "        1.       , 1.0000004, 1.       , 1.0000017, 1.0000001, 1.0000002,\n",
       "        1.0000044, 1.0000001, 1.0000001, 1.0000001],\n",
       "       [1.9953272, 1.0025878, 1.       , 1.       , 1.       , 1.0020831,\n",
       "        1.       , 1.       , 1.       , 1.       , 1.0000017, 1.       ,\n",
       "        1.       , 1.0000001, 1.       , 1.       , 1.       , 1.       ,\n",
       "        1.       , 1.       , 1.       , 1.       ],\n",
       "       [1.9551063, 1.0050981, 1.0000001, 1.       , 1.0000004, 1.0397896,\n",
       "        1.0000005, 1.0000005, 1.0000002, 1.0000001, 1.0000025, 1.       ,\n",
       "        1.       , 1.0000002, 1.       , 1.0000001, 1.000001 , 1.0000001,\n",
       "        1.0000001, 1.0000001, 1.0000001, 1.0000001],\n",
       "       [1.1891377, 1.0081857, 1.       , 1.       , 1.       , 1.8026718,\n",
       "        1.       , 1.       , 1.       , 1.       , 1.       , 1.       ,\n",
       "        1.       , 1.       , 1.       , 1.       , 1.       , 1.0000046,\n",
       "        1.       , 1.       , 1.       , 1.       ],\n",
       "       [1.9860957, 1.0003281, 1.       , 1.       , 1.       , 1.0135761,\n",
       "        1.       , 1.       , 1.       , 1.       , 1.       , 1.       ,\n",
       "        1.       , 1.       , 1.       , 1.       , 1.       , 1.0000001,\n",
       "        1.       , 1.       , 1.       , 1.       ],\n",
       "       [1.9644895, 1.0251745, 1.       , 1.       , 1.       , 1.0103356,\n",
       "        1.       , 1.       , 1.       , 1.       , 1.       , 1.       ,\n",
       "        1.       , 1.0000005, 1.       , 1.       , 1.       , 1.       ,\n",
       "        1.       , 1.       , 1.       , 1.       ],\n",
       "       [1.936462 , 1.0623372, 1.       , 1.       , 1.       , 1.0012007,\n",
       "        1.       , 1.       , 1.       , 1.       , 1.       , 1.       ,\n",
       "        1.       , 1.       , 1.       , 1.       , 1.       , 1.       ,\n",
       "        1.       , 1.       , 1.       , 1.       ],\n",
       "       [1.0806122, 1.1691674, 1.035078 , 1.0347617, 1.0354705, 1.0410659,\n",
       "        1.0356776, 1.0362098, 1.0366489, 1.0742927, 1.0368261, 1.0322648,\n",
       "        1.0343723, 1.035865 , 1.0327748, 1.036022 , 1.0360464, 1.035971 ,\n",
       "        1.0353392, 1.035174 , 1.0351752, 1.0351844],\n",
       "       [1.0379502, 1.       , 1.       , 1.       , 1.       , 1.0000001,\n",
       "        1.       , 1.       , 1.       , 1.       , 1.9620388, 1.       ,\n",
       "        1.       , 1.       , 1.       , 1.0000111, 1.       , 1.       ,\n",
       "        1.       , 1.       , 1.       , 1.       ],\n",
       "       [1.9928858, 1.0040146, 1.0000005, 1.0000002, 1.0000011, 1.0030661,\n",
       "        1.0000015, 1.0000013, 1.0000006, 1.0000005, 1.0000124, 1.       ,\n",
       "        1.0000004, 1.0000038, 1.0000005, 1.0000006, 1.0000072, 1.0000006,\n",
       "        1.0000005, 1.0000005, 1.0000005, 1.0000005],\n",
       "       [1.9719986, 1.006182 , 1.       , 1.       , 1.       , 1.0029042,\n",
       "        1.       , 1.       , 1.       , 1.       , 1.0132047, 1.       ,\n",
       "        1.       , 1.0057013, 1.       , 1.       , 1.0000014, 1.0000001,\n",
       "        1.0000079, 1.       , 1.       , 1.       ],\n",
       "       [1.0120928, 1.0000002, 1.       , 1.       , 1.       , 1.0000006,\n",
       "        1.       , 1.       , 1.       , 1.       , 1.       , 1.       ,\n",
       "        1.       , 1.9879063, 1.       , 1.       , 1.       , 1.       ,\n",
       "        1.       , 1.       , 1.       , 1.       ],\n",
       "       [1.6424112, 1.3495178, 1.00001  , 1.0000058, 1.0000163, 1.0036614,\n",
       "        1.0000213, 1.0000259, 1.0000219, 1.0000118, 1.0001941, 1.0000064,\n",
       "        1.0000017, 1.0000135, 1.0000002, 1.0009525, 1.000014 , 1.0000138,\n",
       "        1.0000122, 1.0000118, 1.0028564, 1.0002201],\n",
       "       [1.0010397, 1.0000486, 1.       , 1.       , 1.       , 1.       ,\n",
       "        1.       , 1.       , 1.       , 1.       , 1.0000023, 1.       ,\n",
       "        1.       , 1.       , 1.       , 1.9989095, 1.       , 1.       ,\n",
       "        1.       , 1.       , 1.       , 1.       ],\n",
       "       [1.0000746, 1.       , 1.       , 1.       , 1.       , 1.       ,\n",
       "        1.       , 1.       , 1.       , 1.       , 1.       , 1.       ,\n",
       "        1.       , 1.       , 1.       , 1.       , 1.9984598, 1.0014656,\n",
       "        1.       , 1.       , 1.       , 1.       ],\n",
       "       [1.0000249, 1.0000006, 1.       , 1.       , 1.       , 1.0000294,\n",
       "        1.       , 1.       , 1.       , 1.       , 1.       , 1.       ,\n",
       "        1.       , 1.       , 1.       , 1.       , 1.0017153, 1.9982297,\n",
       "        1.       , 1.       , 1.       , 1.       ],\n",
       "       [1.0023016, 1.       , 1.       , 1.       , 1.       , 1.000014 ,\n",
       "        1.       , 1.       , 1.       , 1.       , 1.       , 1.       ,\n",
       "        1.       , 1.       , 1.       , 1.       , 1.       , 1.       ,\n",
       "        1.9976845, 1.       , 1.       , 1.       ],\n",
       "       [1.0000062, 1.       , 1.       , 1.       , 1.       , 1.       ,\n",
       "        1.       , 1.       , 1.       , 1.       , 1.       , 1.       ,\n",
       "        1.       , 1.0020729, 1.       , 1.       , 1.       , 1.       ,\n",
       "        1.       , 1.9979208, 1.       , 1.       ],\n",
       "       [1.0018128, 1.0000017, 1.0000001, 1.0000001, 1.0000001, 1.0000007,\n",
       "        1.0000001, 1.0000001, 1.0000001, 1.0000001, 1.0000002, 1.       ,\n",
       "        1.0000001, 1.0000001, 1.       , 1.0000001, 1.0000001, 1.0000001,\n",
       "        1.0000001, 1.0000001, 1.9981825, 1.0000001],\n",
       "       [1.0029817, 1.0000035, 1.       , 1.       , 1.       , 1.       ,\n",
       "        1.       , 1.       , 1.       , 1.       , 1.       , 1.       ,\n",
       "        1.       , 1.       , 1.       , 1.       , 1.       , 1.       ,\n",
       "        1.       , 1.       , 1.       , 1.9970149]], dtype=float32)"
      ]
     },
     "execution_count": 377,
     "metadata": {},
     "output_type": "execute_result"
    }
   ],
   "source": [
    "af"
   ]
  },
  {
   "cell_type": "markdown",
   "metadata": {},
   "source": [
    "# Выводы и замечания\n",
    "\n",
    "- Невязка в терминах KL- расходимостей близка к оптимальной для классической модели и соответствует значениям в непосредственной окрестности соответственных оптимальных значений $\\alpha$ классической модели\n",
    "- Классическая невязка не терпит никакой критики\n",
    "- Это объясняется тем, что оптимизация правдоподобия на самом деле является оптимизацией в KL-терминах\n",
    "- Возможно, для предсказания нужно брать не математическое ожидание, а что-то другое\n",
    "- Возможно, саму модель стоит задать по-другому\n",
    "- Эксперименты с мультиномиальным распределением успеха не возымели из-за возникающих синулярностей(мультиномиальная плотность была часто близкой к нулю)"
   ]
  }
 ],
 "metadata": {
  "kernelspec": {
   "display_name": "Python [conda env:condathree]",
   "language": "python",
   "name": "conda-env-condathree-py"
  },
  "language_info": {
   "codemirror_mode": {
    "name": "ipython",
    "version": 3
   },
   "file_extension": ".py",
   "mimetype": "text/x-python",
   "name": "python",
   "nbconvert_exporter": "python",
   "pygments_lexer": "ipython3",
   "version": "3.6.3"
  }
 },
 "nbformat": 4,
 "nbformat_minor": 2
}
